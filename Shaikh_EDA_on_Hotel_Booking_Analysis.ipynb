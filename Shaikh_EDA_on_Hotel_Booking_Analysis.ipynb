{
  "nbformat": 4,
  "nbformat_minor": 0,
  "metadata": {
    "colab": {
      "private_outputs": true,
      "provenance": [],
      "collapsed_sections": [
        "85gYPyotYoAp",
        "bbFf2-_FphqN",
        "3MPXvC8up1cl",
        "gIfDvo9L0UH2"
      ],
      "include_colab_link": true
    },
    "kernelspec": {
      "name": "python3",
      "display_name": "Python 3"
    },
    "language_info": {
      "name": "python"
    }
  },
  "cells": [
    {
      "cell_type": "markdown",
      "metadata": {
        "id": "view-in-github",
        "colab_type": "text"
      },
      "source": [
        "<a href=\"https://colab.research.google.com/github/shaikhrnafees/Data-Analysis-for-Hotel-Bookings/blob/main/Shaikh_EDA_on_Hotel_Booking_Analysis.ipynb\" target=\"_parent\"><img src=\"https://colab.research.google.com/assets/colab-badge.svg\" alt=\"Open In Colab\"/></a>"
      ]
    },
    {
      "cell_type": "markdown",
      "source": [
        "# **Project Name**    -\n",
        "\n"
      ],
      "metadata": {
        "id": "vncDsAP0Gaoa"
      }
    },
    {
      "cell_type": "markdown",
      "source": [
        "\n",
        "Project Type - **EDA**\n",
        "\n",
        "Contribution - **Individual**\n",
        "\n",
        "Name - **Nafees Shaikh**"
      ],
      "metadata": {
        "id": "beRrZCGUAJYm"
      }
    },
    {
      "cell_type": "markdown",
      "source": [
        "# **Project Summary -**"
      ],
      "metadata": {
        "id": "FJNUwmbgGyua"
      }
    },
    {
      "cell_type": "markdown",
      "source": [
        "This project aims to perform Exploratory Data Analysis (EDA) on a dataset containing hotel booking information to gain insights and understand patterns in customer behaviour, booking trends, and other relevant factors that impact the hospitality industry. By conducting a comprehensive EDA, we intend to extract meaningful information that can guide decision-making, improve customer experience, and optimise hotel management strategies.\n",
        "\n",
        "\n",
        "---\n",
        "\n",
        "\n",
        "**Work Flow:**\n",
        "\n",
        "Identification of factors contributing to booking cancellations, such as lead time and market segment.\n",
        "\n",
        "Insights into the effectiveness of different booking distribution channels and targeting segments.\n",
        "\n",
        "Understanding guest demographics and preferences, which could be used to offer personalized services.\n",
        "\n",
        "Analysis of average daily rates and their impact on customer satisfaction and revenue.\n",
        "\n",
        "Opportunities to increase revenue through additional services such as car parking or special requests.\n",
        "\n",
        "Identification of trends in customer behavior and preferences for targeted marketing efforts.\n",
        "\n",
        "Optimization of operational efficiency by understanding lead times, room type preferences, and booking patterns.\n",
        "\n"
      ],
      "metadata": {
        "id": "F6v_1wHtG2nS"
      }
    },
    {
      "cell_type": "markdown",
      "source": [
        "# **GitHub Link -**"
      ],
      "metadata": {
        "id": "w6K7xa23Elo4"
      }
    },
    {
      "cell_type": "markdown",
      "source": [
        "Provide your GitHub Link here."
      ],
      "metadata": {
        "id": "h1o69JH3Eqqn"
      }
    },
    {
      "cell_type": "markdown",
      "source": [
        "# **Problem Statement**\n"
      ],
      "metadata": {
        "id": "yQaldy8SH6Dl"
      }
    },
    {
      "cell_type": "markdown",
      "source": [
        "\n",
        "\n",
        "*   Clean the data by handling missing values, data type inconsistencies, and any other data quality issues.\n",
        "\n",
        "*   Visualize the cleaned data to gain insights into the booking patterns, cancellation rates, customer demographics, and other relevant factors.\n",
        "\n",
        "*   Generate visualizations (e.g., bar plots, histograms, scatter plots) to showcase the relationships between different variables.\n",
        "\n",
        "\n",
        "*   Identify any trends or patterns in the data that could be useful for making business decisions.\n",
        "\n",
        "\n",
        "\n",
        "\n",
        "\n"
      ],
      "metadata": {
        "id": "DpeJGUA3kjGy"
      }
    },
    {
      "cell_type": "markdown",
      "source": [
        "#### **Define Your Business Objective?**"
      ],
      "metadata": {
        "id": "PH-0ReGfmX4f"
      }
    },
    {
      "cell_type": "markdown",
      "source": [
        "\n",
        "\n",
        "*   Reducing booking cancellations by identifying factors that contribute to cancellations and taking steps to address them.\n",
        "\n",
        "*   Improving booking distribution strategies by analyzing the effectiveness of different distribution channels and targeting segments.\n",
        "\n",
        "*   Enhancing customer experience by offering personalized services based on guest demographics and preferences.\n",
        "\n",
        "*   Optimizing pricing strategies by analyzing average daily rates and the impact on customer satisfaction and revenue.\n",
        "\n",
        "*   Identifying opportunities to increase revenue through additional services such as car parking or special requests.\n",
        "\n",
        "\n",
        "*   Identifying trends in customer behavior and preferences to tailor marketing and promotional efforts effectively.\n",
        "\n",
        "\n",
        "*   Improving operational efficiency by understanding lead times, room type preferences, and booking patterns.\n",
        "\n",
        "\n",
        "\n",
        "\n",
        "\n",
        "\n",
        "\n",
        "\n"
      ],
      "metadata": {
        "id": "PhDvGCAqmjP1"
      }
    },
    {
      "cell_type": "markdown",
      "source": [
        "# **General Guidelines** : -  "
      ],
      "metadata": {
        "id": "mDgbUHAGgjLW"
      }
    },
    {
      "cell_type": "markdown",
      "source": [
        "1.   Well-structured, formatted, and commented code is required.\n",
        "2.   Exception Handling, Production Grade Code & Deployment Ready Code will be a plus. Those students will be awarded some additional credits.\n",
        "     \n",
        "     The additional credits will have advantages over other students during Star Student selection.\n",
        "       \n",
        "             [ Note: - Deployment Ready Code is defined as, the whole .ipynb notebook should be executable in one go\n",
        "                       without a single error logged. ]\n",
        "\n",
        "3.   Each and every logic should have proper comments.\n",
        "4. You may add as many number of charts you want. Make Sure for each and every chart the following format should be answered.\n",
        "        \n",
        "\n",
        "```\n",
        "# Chart visualization code\n",
        "```\n",
        "            \n",
        "\n",
        "*   Why did you pick the specific chart?\n",
        "*   What is/are the insight(s) found from the chart?\n",
        "* Will the gained insights help creating a positive business impact?\n",
        "Are there any insights that lead to negative growth? Justify with specific reason.\n",
        "\n",
        "5. You have to create at least 20 logical & meaningful charts having important insights.\n",
        "\n",
        "\n",
        "[ Hints : - Do the Vizualization in  a structured way while following \"UBM\" Rule.\n",
        "\n",
        "U - Univariate Analysis,\n",
        "\n",
        "B - Bivariate Analysis (Numerical - Categorical, Numerical - Numerical, Categorical - Categorical)\n",
        "\n",
        "M - Multivariate Analysis\n",
        " ]\n",
        "\n",
        "\n",
        "\n"
      ],
      "metadata": {
        "id": "ZrxVaUj-hHfC"
      }
    },
    {
      "cell_type": "markdown",
      "source": [
        "# ***Let's Begin !***"
      ],
      "metadata": {
        "id": "O_i_v8NEhb9l"
      }
    },
    {
      "cell_type": "markdown",
      "source": [
        "## ***1. Know Your Data***"
      ],
      "metadata": {
        "id": "HhfV-JJviCcP"
      }
    },
    {
      "cell_type": "markdown",
      "source": [
        "### Import Libraries"
      ],
      "metadata": {
        "id": "Y3lxredqlCYt"
      }
    },
    {
      "cell_type": "code",
      "source": [
        "# Import Libraries\n",
        "import pandas as pd\n",
        "import numpy as np\n",
        "import matplotlib.pyplot as plt\n",
        "import time\n",
        "import seaborn as sns\n",
        "import warnings\n",
        "warnings.filterwarnings('ignore')\n"
      ],
      "metadata": {
        "id": "M8Vqi-pPk-HR"
      },
      "execution_count": null,
      "outputs": []
    },
    {
      "cell_type": "markdown",
      "source": [
        "### Dataset Loading"
      ],
      "metadata": {
        "id": "3RnN4peoiCZX"
      }
    },
    {
      "cell_type": "code",
      "source": [
        "# Load Dataset\n",
        "hb=pd.read_csv(\"/content/Hotel Bookings.csv\")  # reading the dataset file\n",
        "hb.index=hb.index+1 # starting the index no. from 0 to 1 by adding index+1\n",
        "hb"
      ],
      "metadata": {
        "id": "4CkvbW_SlZ_R"
      },
      "execution_count": null,
      "outputs": []
    },
    {
      "cell_type": "markdown",
      "source": [
        "### Dataset First View"
      ],
      "metadata": {
        "id": "x71ZqKXriCWQ"
      }
    },
    {
      "cell_type": "code",
      "source": [
        "# Dataset First Look\n",
        "\n",
        "hb.head() # showing first five rows of DataFrame"
      ],
      "metadata": {
        "id": "LWNFOSvLl09H"
      },
      "execution_count": null,
      "outputs": []
    },
    {
      "cell_type": "code",
      "source": [
        "hb.tail() # showing last 5 rows of DataFrame"
      ],
      "metadata": {
        "id": "ODx9DB1EdKFP"
      },
      "execution_count": null,
      "outputs": []
    },
    {
      "cell_type": "markdown",
      "source": [
        "### Dataset Rows & Columns count"
      ],
      "metadata": {
        "id": "7hBIi_osiCS2"
      }
    },
    {
      "cell_type": "code",
      "source": [
        "# Dataset Rows & Columns count\n",
        "\n",
        "rows_coulmns=hb.shape # by this we can get the rows and columns counts\n",
        "rows_coulmns"
      ],
      "metadata": {
        "id": "Kllu7SJgmLij"
      },
      "execution_count": null,
      "outputs": []
    },
    {
      "cell_type": "code",
      "source": [
        "hb.index # by this we can get the  count and step of index"
      ],
      "metadata": {
        "id": "ViZhE9IFdkza"
      },
      "execution_count": null,
      "outputs": []
    },
    {
      "cell_type": "code",
      "source": [
        "hb.columns # by this every column of DataFrame is showing"
      ],
      "metadata": {
        "id": "aJ2mzag1dk_5"
      },
      "execution_count": null,
      "outputs": []
    },
    {
      "cell_type": "markdown",
      "source": [
        "### Dataset Information"
      ],
      "metadata": {
        "id": "JlHwYmJAmNHm"
      }
    },
    {
      "cell_type": "code",
      "source": [
        "# Dataset Info\n",
        "Dataset_Info=hb.info()\n",
        "Dataset_Info"
      ],
      "metadata": {
        "id": "e9hRXRi6meOf"
      },
      "execution_count": null,
      "outputs": []
    },
    {
      "cell_type": "markdown",
      "source": [
        "#### Duplicate Values"
      ],
      "metadata": {
        "id": "35m5QtbWiB9F"
      }
    },
    {
      "cell_type": "code",
      "source": [
        "# Dataset Duplicate Value Count\n",
        "\n",
        "d_v_count= hb.duplicated().value_counts() # it is counting the duplicated values\n",
        "d_v_count"
      ],
      "metadata": {
        "id": "1sLdpKYkmox0"
      },
      "execution_count": null,
      "outputs": []
    },
    {
      "cell_type": "code",
      "source": [
        "duplicate_counts=hb[\"hotel\"].duplicated().value_counts() # also  single column and multiple column wise we can count the duplicated values\n",
        "#duplicate_counts = hb[hb.duplicated(subset=['A', 'B'])].value_counts()-------- just a use case for multiple count for analysis\n",
        "duplicate_counts"
      ],
      "metadata": {
        "id": "uiq2FBMyd2Ja"
      },
      "execution_count": null,
      "outputs": []
    },
    {
      "cell_type": "markdown",
      "source": [
        "#### Missing Values/Null Values"
      ],
      "metadata": {
        "id": "PoPl-ycgm1ru"
      }
    },
    {
      "cell_type": "code",
      "source": [
        "# Missing Values/Null Values Count\n",
        "\n",
        "missing_counts=hb.isna().sum() # by this counting the missing values in every column\n",
        "missing_counts"
      ],
      "metadata": {
        "id": "GgHWkxvamxVg"
      },
      "execution_count": null,
      "outputs": []
    },
    {
      "cell_type": "code",
      "source": [
        "# Visualizing the missing values\n",
        "m_values = missing_counts[missing_counts > 0]\n",
        "per_miss=(m_values/len(hb))*100 # for getting percentage count\n",
        "plt.bar(m_values.index,m_values.values) # index for x position and values for y position or height\n",
        "plt.xlabel(\"Columns\")\n",
        "plt.ylabel(\"Numbers of Missing Values\")\n",
        "plt.title(\"Number of Missing Values in Columns\")\n",
        "plt.grid(axis='y', linestyle='--', alpha=0.7)\n",
        "# Display the percentage of missing values on top of each bar\n",
        "for index, value in enumerate(m_values): # usnig loop for each bar\n",
        "    plt.text(index, value, f'{per_miss[index]:.2f}%', ha='center', va='bottom') # addint text on the plot by using ha and va parameters\n",
        "plt.show()"
      ],
      "metadata": {
        "id": "3q5wnI3om9sJ"
      },
      "execution_count": null,
      "outputs": []
    },
    {
      "cell_type": "markdown",
      "source": [
        "### What did you know about your dataset?"
      ],
      "metadata": {
        "id": "H0kj-8xxnORC"
      }
    },
    {
      "cell_type": "markdown",
      "source": [
        "The dataset contains 119390 rows & 32 columns. There are several duplicated rows and some columns contains missing values, so we need to treat them individually.\n",
        "\n",
        "After cleaning the data and counting all duplicated entries, it was found that there were 29 duplicates in the dataset. This suggests that there were multiple instances of the same booking made by the same guest, which could be due to human error or system issues.\n",
        "\n",
        "To visualize the missing values, a bar plot was created using the matplotlib library. The barplot revealed that the 'agent' and 'company' columns had a significant number of missing values, with over 95% of the data missing in these columns. The 'country' column also had some missing values, but to a lesser extent.\n",
        "\n",
        "The presence of duplicates and missing values in the dataset indicates that the data may not be entirely reliable and could potentially impact the accuracy of any analysis or predictions made using this data. Therefore, it is important to carefully consider these factors when interpreting the results of any analysis or modeling performed on this dataset."
      ],
      "metadata": {
        "id": "gfoNAAC-nUe_"
      }
    },
    {
      "cell_type": "markdown",
      "source": [
        "## ***2. Understanding Your Variables***"
      ],
      "metadata": {
        "id": "nA9Y7ga8ng1Z"
      }
    },
    {
      "cell_type": "code",
      "source": [
        "# Dataset Columns\n",
        "hb.columns # for all clomuns visiblity in DataFrame"
      ],
      "metadata": {
        "id": "j7xfkqrt5Ag5"
      },
      "execution_count": null,
      "outputs": []
    },
    {
      "cell_type": "code",
      "source": [
        "# Dataset Describe\n",
        "hb.describe() # for numerical columns it gives us those operation results"
      ],
      "metadata": {
        "id": "DnOaZdaE5Q5t"
      },
      "execution_count": null,
      "outputs": []
    },
    {
      "cell_type": "markdown",
      "source": [
        "### Variables Description"
      ],
      "metadata": {
        "id": "PBTbrJXOngz2"
      }
    },
    {
      "cell_type": "markdown",
      "source": [
        "1. hotel: Name of hotel (City hotel or Resort hotel)\n",
        "\n",
        "2. is_canceled: If the booking was cancelled (1) or not (0)\n",
        "\n",
        "3. lead_time: The time taken between a customer makes a reservation and their actual arrival time\n",
        "\n",
        "4. arrival_date_year: Year of hotel arrival date\n",
        "\n",
        "5. arrival_date_month: Month of month hotel arrival date\n",
        "\n",
        "6. arrival_date_week_number: week hotel arrival date\n",
        "\n",
        "7. arrival_date_day_of_month: Day of hotel arrival date\n",
        "\n",
        "8. stays_in_weekend_nights: Number of weekend nights (Saturday & Sunday) the guest stayed or booked to stay at the hotel\n",
        "\n",
        "9. stays_in_week_nights: Number of weeknights (Mon to Fri) the guest stayed or booked to stay at the hotel\n",
        "\n",
        "10. adults: Number of adults among guests\n",
        "\n",
        "11. children: Number of children among guests\n",
        "\n",
        "12. babies: Number of babies among guests\n",
        "\n",
        "13. meal: Available options of meal for guests\n",
        "\n",
        "14. country: country code\n",
        "\n",
        "15. market_segment: A strategy that allows hotel owners to better understand that which segment customer belongs to\n",
        "\n",
        "16. distribution_channel: Name of booking distribution channel. The term 'TA' means 'Travel Agents'& 'TO' means 'Tour Operators.'\n",
        "\n",
        "17. is_repeated_guest: If the booking were repeated guest (1) or not (0)\n",
        "\n",
        "18. previous_cancellations: Number of Previous bookings that were cancelled by customer priorities the current booking\n",
        "\n",
        "19. previous_bookings_not_canceled: Number of Previous bookings that were not cancelled by the customer from current booking\n",
        "\n",
        "20. reserved_room_type: Code of reserved room type\n",
        "\n",
        "21. assigned_room_type: Code of assigned room type\n",
        "\n",
        "22. booking_changes: Number changes made in the booking\n",
        "\n",
        "23. deposit_type: Type of deposit made by guest\n",
        "\n",
        "24. agent: Number booking made by company agent (ID)\n",
        "\n",
        "25. company: The company that made the number of bookings by company (ID)\n",
        "\n",
        "26. days_in_waiting_list: The number of days booking was in the waiting list.\n",
        "\n",
        "27. customer_type: Type of customer, assuming one of four categories\n",
        "\n",
        "28. adr: Average daily rate\n",
        "\n",
        "29. required_car_parking_spaces: Number of car parking spaces required by the customer\n",
        "\n",
        "30. total_of_special_requests: Number of special requests made by the customer\n",
        "\n",
        "31. reservation_status: Status of reservation\n",
        "\n",
        "32. reservation_status_date: The date at which the last reservation status was updated"
      ],
      "metadata": {
        "id": "aJV4KIxSnxay"
      }
    },
    {
      "cell_type": "markdown",
      "source": [
        "### Check Unique Values for each variable."
      ],
      "metadata": {
        "id": "u3PMJOP6ngxN"
      }
    },
    {
      "cell_type": "code",
      "source": [
        "# Check Unique Values for each variable.\n",
        "\n",
        "unique_values = hb.apply(pd.Series.unique) # by this we can get the list of uniques values in DataFrame\n",
        "unique_values\n",
        "#unique_values[\"name/indexnumber\"]----use case for specific row"
      ],
      "metadata": {
        "id": "zms12Yq5n-jE"
      },
      "execution_count": null,
      "outputs": []
    },
    {
      "cell_type": "code",
      "source": [
        "unique_values_counts = hb.apply(pd.Series.nunique) # by this we can get the total count of unique values in DataFrame\n",
        "unique_values_counts"
      ],
      "metadata": {
        "id": "XTs62WxLRUl2"
      },
      "execution_count": null,
      "outputs": []
    },
    {
      "cell_type": "markdown",
      "source": [
        "## 3. ***Data Wrangling***"
      ],
      "metadata": {
        "id": "dauF4eBmngu3"
      }
    },
    {
      "cell_type": "markdown",
      "source": [
        "### Data Wrangling Code"
      ],
      "metadata": {
        "id": "bKJF3rekwFvQ"
      }
    },
    {
      "cell_type": "code",
      "source": [
        "# Write your code to make your dataset analysis ready.\n",
        "\n",
        "# Dropping the company column since it has more than 90 % empty columns\n",
        "hb = hb.drop(columns='company',axis=1) # by this we can droppin columns , axis parameter for rows and columns"
      ],
      "metadata": {
        "id": "wk-9a2fpoLcV"
      },
      "execution_count": null,
      "outputs": []
    },
    {
      "cell_type": "code",
      "source": [
        "# Filling the Missing value\n",
        "\n",
        "hb[['agent','children']]= hb[['agent','children']].fillna(0)  # filling 0 in children and agent missing values in column\n",
        "hb[['country']] = hb[['country']].fillna('other') # same in country with filling \"others\"\n",
        "\n",
        "# Filling missing values with those because it justfies and does not effect on DataFrame"
      ],
      "metadata": {
        "id": "hIfuw1qtR93a"
      },
      "execution_count": null,
      "outputs": []
    },
    {
      "cell_type": "code",
      "source": [
        "hb.isnull().sum() # now thew missing values is zero in DataFrame"
      ],
      "metadata": {
        "id": "8HQRhzwPR9ri"
      },
      "execution_count": null,
      "outputs": []
    },
    {
      "cell_type": "code",
      "source": [
        "hb.shape # shape of row is different because we dropped \"company\" column"
      ],
      "metadata": {
        "id": "pG5W-1M0S965"
      },
      "execution_count": null,
      "outputs": []
    },
    {
      "cell_type": "code",
      "source": [
        "# Checking rows having duplicate values\n",
        "hb.duplicated().sum()"
      ],
      "metadata": {
        "id": "ozQ3zfu-S9_S"
      },
      "execution_count": null,
      "outputs": []
    },
    {
      "cell_type": "code",
      "source": [
        "# Dropping duplicated rows\n",
        "hb= hb.drop_duplicates(keep='first') # dropping the duplicate rows but keeps the first one"
      ],
      "metadata": {
        "id": "l0fYnPFuS-DP"
      },
      "execution_count": null,
      "outputs": []
    },
    {
      "cell_type": "code",
      "source": [
        "hb.duplicated().sum()"
      ],
      "metadata": {
        "id": "p3ZwQTW4S-Hn"
      },
      "execution_count": null,
      "outputs": []
    },
    {
      "cell_type": "code",
      "source": [
        "# Creating a new columns 'total_stays' by merging columns containg 'stays_in_weekend_nights' & 'stays_in_week_nights'\n",
        "hb['total_stay'] = hb['stays_in_weekend_nights']+hb['stays_in_week_nights']\n",
        "\n",
        "\n",
        "# Adding [total people num as column, i.e total type of person =no. of adults + No. of children + No. of babies\n",
        "hb['total_guests'] = hb['adults'] + hb['children']+hb['babies']\n",
        "\n",
        "\n",
        "# Now dropping the individual columns\n",
        "hb.drop(columns=['stays_in_weekend_nights', 'stays_in_week_nights','adults','children','babies'], inplace=True)\n"
      ],
      "metadata": {
        "id": "5zvHruKUS-Lt"
      },
      "execution_count": null,
      "outputs": []
    },
    {
      "cell_type": "code",
      "source": [
        "# People can not be in float count\n",
        "hb['total_guests']=hb['total_guests'].astype(int)\n",
        "hb.head(20)"
      ],
      "metadata": {
        "id": "UBqCtJUlYE4M"
      },
      "execution_count": null,
      "outputs": []
    },
    {
      "cell_type": "code",
      "source": [
        "# Changing datatype of 'reservation_status_date' & arrival_date from object to datetime\n",
        "hb['reservation_status_date'] = pd.to_datetime(hb['reservation_status_date'])\n",
        "hb['reservation_status_date'] = hb['reservation_status_date'].dt.strftime('%d-%m-%Y')\n",
        "hb['reservation_status_date']"
      ],
      "metadata": {
        "id": "FN0tbGv_VryV"
      },
      "execution_count": null,
      "outputs": []
    },
    {
      "cell_type": "code",
      "source": [
        "# Mapping the 'arrival_date_month' columns with its numerical equivalent\n",
        "month_map = {'January': 1, 'February': 2, 'March': 3, 'April': 4, 'May': 5, 'June': 6,\n",
        "    'July': 7, 'August': 8, 'September': 9, 'October': 10, 'November': 11, 'December': 12}\n",
        "\n",
        "hb['arrival_date_month'] = hb['arrival_date_month'].map(month_map) # changing columns name to match the syntax\n",
        "hb.rename(columns={'arrival_date_day_of_month': 'day',\n",
        "                   'arrival_date_month': 'month',\n",
        "                   'arrival_date_year': 'year'}, inplace=True)\n",
        "\n",
        "# Combine year, month, and day columns into a single datetime column\n",
        "hb['date'] = pd.to_datetime(hb[['year', 'month', 'day']], errors='coerce') # errors for handling error and convert into NaT\n",
        "\n",
        "# Dropping columns of date, month, year\n",
        "hb.drop(columns=['year', 'month', 'day'], inplace=True) # dropping these columns because we made the date columns"
      ],
      "metadata": {
        "id": "B_U0Uv8_xEgz"
      },
      "execution_count": null,
      "outputs": []
    },
    {
      "cell_type": "code",
      "source": [
        "hb.head()"
      ],
      "metadata": {
        "id": "lu3EaDtZS-Oz"
      },
      "execution_count": null,
      "outputs": []
    },
    {
      "cell_type": "markdown",
      "source": [
        "### What all manipulations have you done and insights you found?"
      ],
      "metadata": {
        "id": "MSa1f5Uengrz"
      }
    },
    {
      "cell_type": "markdown",
      "source": [
        "**Each step of the dataframe manipulation process**:\n",
        "\n",
        "---\n",
        "\n",
        "\n",
        "\n",
        "\n",
        "***Dropping the 'company' column:*** The 'company' column has a high\n",
        "percentage of missing values (95%). Since imputing or filling these missing values would not provide meaningful insights, it's better to drop the column altogether to maintain data integrity.\n",
        "\n",
        "\n",
        "\n",
        "\n",
        "\n",
        "***Filling null values in 'children' and 'agent' columns with zero:*** Null values in 'children' and 'agent' columns may indicate no children or no agent involved. Filling these null values with zero allows for better analysis and ensures that the dataset remains consistent.\n",
        "\n",
        "***Filling null values in 'country' column with 'Others'***: Null values in the 'country' column may represent various reasons, such as missing data or unidentified country codes. By filling these null values with 'Others', we categorize these instances separately and avoid losing valuable information.\n",
        "\n",
        "***Dropping duplicated rows while keeping the first occurrence:*** Duplicate rows can skew analysis results and lead to incorrect conclusions. By dropping duplicated rows and keeping the first occurrence, we ensure that the dataset remains accurate and representative.\n",
        "\n",
        "***Creating a new column 'total_stays':*** The 'stays_in_weekend_nights' and 'stays_in_week_nights' columns provide information about the length of a guest's stay. By merging these two columns into a new 'total_stays' column, we create a single metric that represents the total length of a guest's stay, which can be more informative for analysis.\n",
        "\n",
        "***Mapping the 'arrival_date_month' column with its numerical equivalent:*** While 'arrival_date_month' provides the month names, mapping them to their numerical equivalents (e.g., January as 1, February as 2) makes it easier to perform numerical analysis and comparisons.\n",
        "\n",
        "***Merging date, month, and year columns into a single column:*** The three separate columns containing date, month, and year information are merged into a single column called 'date'. This consolidation simplifies the dataset and makes it easier to work with for analysis.\n",
        "\n",
        "***Changing the datatype of 'reservation_status_date' and 'arrival_date':*** Converting 'reservation_status_date' and 'arrival_date' from object to datetime datatype allows for easier manipulation, sorting, and filtering of date-related data.\n",
        "\n",
        "\n",
        "---\n",
        "\n",
        "\n",
        "\n",
        "In summary, these dataframe manipulation steps aim to improve the dataset's integrity, fill in missing values, create new features for analysis, and simplify date handling. By performing these steps, the dataset becomes more suitable for accurate and meaningful analysis and modeling."
      ],
      "metadata": {
        "id": "LbyXE7I1olp8"
      }
    },
    {
      "cell_type": "markdown",
      "source": [
        "## ***4. Data Vizualization, Storytelling & Experimenting with charts : Understand the relationships between variables***"
      ],
      "metadata": {
        "id": "GF8Ens_Soomf"
      }
    },
    {
      "cell_type": "markdown",
      "source": [
        "#### Chart - 1"
      ],
      "metadata": {
        "id": "0wOQAZs5pc--"
      }
    },
    {
      "cell_type": "code",
      "source": [
        "# Chart - 1 visualization code (Hotel Type Distribution)\n",
        "\n",
        "hb_counts=hb[\"hotel\"].value_counts() # this count the cvalue counts in hootel column\n",
        "plt.figure(figsize=(15, 8)) #The figsize parameter specifies the size of the figure in inches\n",
        "plt.pie(hb_counts, labels=hb_counts.index, autopct='%1.2f%%', startangle=45, explode=(0, 0.05), colors=['skyblue', 'lightgreen'],textprops={'fontsize': 13},shadow=True)\n",
        "plt.title('Hotel Type Distribution')\n",
        "plt.axis('equal')  # Equal aspect ratio ensures the pie chart is circular.\n",
        "plt.legend(title='Hotel Type', loc='upper right', labels=['City Hotel', 'Resort Hotel'])\n",
        "plt.axis('equal')\n",
        "plt.show()"
      ],
      "metadata": {
        "id": "7v_ESjsspbW7"
      },
      "execution_count": null,
      "outputs": []
    },
    {
      "cell_type": "markdown",
      "source": [
        "##### 1. Why did you pick the specific chart?"
      ],
      "metadata": {
        "id": "K5QZ13OEpz2H"
      }
    },
    {
      "cell_type": "markdown",
      "source": [
        "The specific chart chosen is a pie chart, which is useful for visualizing the distribution of categorical data. In this case, the categorical data is the type of hotel—City Hotel or Resort Hotel."
      ],
      "metadata": {
        "id": "XESiWehPqBRc"
      }
    },
    {
      "cell_type": "markdown",
      "source": [
        "##### 2. What is/are the insight(s) found from the chart?"
      ],
      "metadata": {
        "id": "lQ7QKXXCp7Bj"
      }
    },
    {
      "cell_type": "markdown",
      "source": [
        "The insight from the chart is that there is a significant difference in the distribution of hotel types. The City Hotel accounts for 61.14% of the total, while the Resort Hotel accounts for 38.86%. This indicates that the City Hotel is more popular or more prevalent in the dataset compared to the Resort Hotel.\n"
      ],
      "metadata": {
        "id": "C_j1G7yiqdRP"
      }
    },
    {
      "cell_type": "markdown",
      "source": [
        "##### 3. Will the gained insights help creating a positive business impact?\n",
        "Are there any insights that lead to negative growth? Justify with specific reason."
      ],
      "metadata": {
        "id": "448CDAPjqfQr"
      }
    },
    {
      "cell_type": "markdown",
      "source": [
        "The gained insights could potentially help create a positive business impact. For example, if the company owns both City and Resort Hotels, they might want to focus more on the City Hotel segment since it appears to be more popular. Alternatively, if they want to increase the presence of the Resort Hotel, they might need to invest in marketing or other strategies to attract more customers.\n",
        "\n",
        "---\n",
        "\n",
        "\n",
        "\n",
        "---\n",
        "\n",
        "\n",
        "\n",
        "However, there could be negative growth or implications from this insight. For instance, if the company was primarily focused on the Resort Hotel segment and was not aware of the popularity of the City Hotel, they might have been missing out on potential revenue from the City Hotel segment. This could lead to a negative impact on overall business growth if they do not adjust their strategies accordingly."
      ],
      "metadata": {
        "id": "3cspy4FjqxJW"
      }
    },
    {
      "cell_type": "markdown",
      "source": [
        "#### Chart - 2"
      ],
      "metadata": {
        "id": "KSlN3yHqYklG"
      }
    },
    {
      "cell_type": "code",
      "source": [
        "# Chart - 2 visualization code"
      ],
      "metadata": {
        "id": "R4YgtaqtYklH"
      },
      "execution_count": null,
      "outputs": []
    },
    {
      "cell_type": "code",
      "source": [
        "# Assigned Booking Preference by Room Types\n",
        "\n",
        "room_type_counts = hb['assigned_room_type'].value_counts()\n",
        "\n",
        "# Plot the bar chart\n",
        "plt.figure(figsize=(14, 8))\n",
        "\n",
        "colors = ['skyblue', 'lightgreen','black', 'red', 'lightcoral', 'gold']\n",
        "bars=plt.bar(room_type_counts.index, room_type_counts.values,color=colors)\n",
        "plt.xlabel('Room Type',fontsize=12)\n",
        "plt.ylabel('Number of Bookings',fontsize=15)\n",
        "plt.title('Assigned Booking Preference by Room Types',fontsize=12)\n",
        "plt.xticks(rotation=0, ha='right',fontsize=12)\n",
        "plt.tick_params(axis='y', labelsize=10)\n",
        "\n",
        "# Add the value on top of each bar\n",
        "for bar in bars:\n",
        "    height = bar.get_height()\n",
        "    plt.annotate(f'{height}', xy=(bar.get_x() + bar.get_width() / 2, height), xytext=(0, 3),\n",
        "                 textcoords=\"offset points\", ha='center', va='bottom', fontsize=10, color='black')\n",
        "plt.show()"
      ],
      "metadata": {
        "id": "ygoAm-V15RZN"
      },
      "execution_count": null,
      "outputs": []
    },
    {
      "cell_type": "code",
      "source": [
        "# Reserved Booking Preference by Room Types\n",
        "\n",
        "reserved_room_type_counts = hb['reserved_room_type'].value_counts()\n",
        "\n",
        "# Plot the bar chart\n",
        "plt.figure(figsize=(14, 8))\n",
        "\n",
        "colors = ['lightgreen','yellow','pink','purple','blue','orange' ]\n",
        "bars=plt.bar(reserved_room_type_counts.index, reserved_room_type_counts.values,color=colors)\n",
        "plt.xlabel('Room Type',fontsize=12)\n",
        "plt.ylabel('Number of Bookings',fontsize=15)\n",
        "plt.title('Reserved Booking Preference by Room Types',fontsize=12)\n",
        "plt.xticks(rotation=0, ha='right',fontsize=12)\n",
        "plt.tick_params(axis='y', labelsize=10)\n",
        "\n",
        "# Add the value on top of each bar\n",
        "for bar in bars:\n",
        "    height = bar.get_height() # This line gets the height of the current bar\n",
        "    plt.annotate(f'{height}', xy=(bar.get_x() + bar.get_width() / 2, height), xytext=(0, 3),\n",
        "                 textcoords=\"offset points\", ha='center', va='bottom', fontsize=10, color='black') # annotate for lableling text on bar\n",
        "plt.show()"
      ],
      "metadata": {
        "id": "c3DZl3zz6z7x"
      },
      "execution_count": null,
      "outputs": []
    },
    {
      "cell_type": "markdown",
      "source": [
        "##### 1. Why did you pick the specific chart?"
      ],
      "metadata": {
        "id": "t6dVpIINYklI"
      }
    },
    {
      "cell_type": "markdown",
      "source": [
        "The specific chart chosen is a bar chart, which is suitable for comparing the number of bookings for different categories (in this case, room types) and identifying trends or patterns within the data."
      ],
      "metadata": {
        "id": "5aaW0BYyYklI"
      }
    },
    {
      "cell_type": "markdown",
      "source": [
        "##### 2. What is/are the insight(s) found from the chart?"
      ],
      "metadata": {
        "id": "ijmpgYnKYklI"
      }
    },
    {
      "cell_type": "markdown",
      "source": [
        "**Assigned Room Type Preference**: The bar chart for assigned room types shows that the most popular room type is 'A', followed by 'D' and 'E'. The chart also reveals that there are no bookings for room types 'P', 'L', and 'G'. This suggests that certain room types are more preferred than others, possibly due to factors like room size, amenities, or location within the hotel.\n",
        "\n",
        "\n",
        "---\n",
        "\n",
        "\n",
        "**Reserved Room Type Preference**: The bar chart for reserved room types also shows that the most popular room type is 'A', followed by 'D' and 'E'. Similar to the assigned room types, there are no bookings for room types 'P', 'L', and 'G'. This indicates that the preference for room types is consistent between assigned and reserved bookings."
      ],
      "metadata": {
        "id": "PSx9atu2YklI"
      }
    },
    {
      "cell_type": "markdown",
      "source": [
        "##### 3. Will the gained insights help creating a positive business impact?\n",
        "Are there any insights that lead to negative growth? Justify with specific reason."
      ],
      "metadata": {
        "id": "-JiQyfWJYklI"
      }
    },
    {
      "cell_type": "markdown",
      "source": [
        "The gained insights could help create a positive business impact by informing hotel management about the popularity of certain room types. For example, if 'A' rooms are consistently in high demand, the hotel could allocate more resources to maintain these rooms or offer special promotions to attract guests to other room types that are less frequently booked.\n",
        "\n",
        "\n",
        "---\n",
        "\n",
        "\n",
        "However, there are no insights from the charts that directly indicate negative growth. Negative growth could occur if certain room types are consistently unpopular, leading to decreased occupancy rates and potential revenue loss. However, the charts do not show this trend as all room types have some bookings, albeit in varying frequencies."
      ],
      "metadata": {
        "id": "BcBbebzrYklV"
      }
    },
    {
      "cell_type": "markdown",
      "source": [
        "#### Chart - 3"
      ],
      "metadata": {
        "id": "EM7whBJCYoAo"
      }
    },
    {
      "cell_type": "code",
      "source": [
        "#Chart A (Booking Customer Type)\n",
        "\n",
        "counts_df = hb.groupby(['customer_type', 'hotel']).size().reset_index(name='count') # groupy for the size between type and hotel\n",
        "\n",
        "# Pivot the data to create a table-like structure\n",
        "pivot_table = counts_df.pivot(index='customer_type', columns='hotel', values='count').fillna(0) #used to reshape a DataFrame from long to wide format.\n",
        "pivot_table['Total'] = pivot_table.sum(axis=1)\n",
        "pivot_table\n",
        "# Plot the donut chart\n",
        "fig, ax = plt.subplots(figsize=(15, 8))\n",
        "ax.axis('equal')\n",
        "\n",
        "# Inner circle (donut hole)\n",
        "ax.pie(pivot_table['Total'], labels=pivot_table.index, autopct='%1.2f%%', startangle=180, wedgeprops=dict(width=0.3, edgecolor='w'))\n",
        "ax.legend()\n",
        "\n",
        "\n",
        "# Set aspect ratio to be equal to ensure the donut chart is circular\n",
        "ax.set_aspect('equal')\n",
        "\n",
        "# Add a title\n",
        "plt.title('Bookings by Customer Type',fontsize=20,fontweight='bold',loc='center')\n",
        "plt.show()"
      ],
      "metadata": {
        "id": "t6GMdE67YoAp"
      },
      "execution_count": null,
      "outputs": []
    },
    {
      "cell_type": "code",
      "source": [
        "#Chart B (Bookings by Customer Type in City Hotel vs Resort Hotel)\n",
        "\n",
        "fig, ax = plt.subplots(1,2) # for multiple graph acooriding to (nrows,ncols,index)\n",
        "\n",
        "# Inner circle (donut hole)\n",
        "# ax[0]- left plot/ ax[1]-right plot\n",
        "\n",
        "ax[0].pie(pivot_table['City Hotel'],textprops={'fontsize': 7}, labels=pivot_table.index, autopct='%1.2f%%', startangle=180, wedgeprops=dict(width=0.4, edgecolor='w'))\n",
        "ax[0].set_title('City Hotel', x=0.5, y=0.5,fontsize=8,fontweight='bold')\n",
        "ax[0].legend(loc='center', bbox_to_anchor=(1.0, 0.0),fontsize='small')\n",
        "ax[1].pie(pivot_table['Resort Hotel'],textprops={'fontsize': 7}, labels=pivot_table.index, autopct='%1.2f%%', startangle=180, wedgeprops=dict(width=0.4, edgecolor='y'))\n",
        "ax[1].set_title('Resort Hotel', x=0.5, y=0.5,fontsize=8,fontweight='bold')\n",
        "# Set aspect ratio to be equal to ensure the donut chart is circular\n",
        "ax[0].set_aspect('equal')\n",
        "ax[1].set_aspect('equal')\n",
        "# Add a title\n",
        "plt.title('Bookings by Customer Type in City Hotel vs Resort Hotel',loc='right',fontweight='bold')\n",
        "plt.show()"
      ],
      "metadata": {
        "id": "SQFfidIQZtUg"
      },
      "execution_count": null,
      "outputs": []
    },
    {
      "cell_type": "markdown",
      "source": [
        "##### 1. Why did you pick the specific chart?"
      ],
      "metadata": {
        "id": "fge-S5ZAYoAp"
      }
    },
    {
      "cell_type": "markdown",
      "source": [
        "The specific chart chosen is a donut chart. Donut charts are effective for showing the distribution of parts to a whole, often used to visualize categorical data. In this case, the chart helps to understand the distribution of customer types across different hotel types, providing a clear and concise overview of booking patterns."
      ],
      "metadata": {
        "id": "5dBItgRVYoAp"
      }
    },
    {
      "cell_type": "markdown",
      "source": [
        "##### 2. What is/are the insight(s) found from the chart?"
      ],
      "metadata": {
        "id": "85gYPyotYoAp"
      }
    },
    {
      "cell_type": "markdown",
      "source": [
        "**Transient Customers Dominance:** Across all hotels, transient customers constitute a significant portion of bookings, while contract customers make up a smaller percentage.\n",
        "\n",
        "\n",
        "---\n",
        "\n",
        "\n",
        "**City Hotels vs. Resort Hotels:** Both hotel types have a higher percentage of transient customers. However, City Hotels have a relatively higher percentage compared to Resort Hotels."
      ],
      "metadata": {
        "id": "4jstXR6OYoAp"
      }
    },
    {
      "cell_type": "markdown",
      "source": [
        "##### 3. Will the gained insights help creating a positive business impact?\n",
        "Are there any insights that lead to negative growth? Justify with specific reason."
      ],
      "metadata": {
        "id": "RoGjAbkUYoAp"
      }
    },
    {
      "cell_type": "markdown",
      "source": [
        "**Positive Business Impact:**\n",
        "\n",
        "The gained insights can potentially lead to a positive business impact:\n",
        "\n",
        "**Tailored Marketing Strategies:** Understanding the dominance of transient customers can help hotels tailor their marketing efforts to target this segment more effectively, potentially leading to increased bookings.\n",
        "\n",
        "**Service Offerings:** Hotels can adjust their service offerings to cater better to the needs and preferences of transient customers, such as flexible booking options or short-term promotions.\n",
        "\n",
        "\n",
        "---\n",
        "\n",
        "\n",
        "\n",
        "Insights Leading to Negative Growth:\n",
        "\n",
        "**Heavy Reliance on Transient Customers:** If a hotel business heavily relies on transient customers and this segment experiences a decline in demand (due to economic factors or shifts in travel preferences), it could lead to negative growth.\n",
        "\n",
        "**Inability to Adapt:** If there's a significant shift in customer type distribution between City Hotels and Resort Hotels and the business is not able to adapt its services and marketing strategies, it could lead to negative growth.\n",
        "\n",
        "\n",
        "---\n",
        "\n",
        "\n",
        "**Conclusion:**\n",
        "\n",
        "The insights from the donut chart provide valuable information that can guide strategic decisions to enhance customer experience and drive positive business outcomes. However, it's essential for hotel businesses to remain agile and responsive to market changes to mitigate potential negative impacts."
      ],
      "metadata": {
        "id": "zfJ8IqMcYoAp"
      }
    },
    {
      "cell_type": "markdown",
      "source": [
        "#### Chart - 4"
      ],
      "metadata": {
        "id": "4Of9eVA-YrdM"
      }
    },
    {
      "cell_type": "code",
      "source": [
        "# Chart - 4 visualization code (Monthly Bookings Trend)\n",
        "\n",
        "# Calculate the hotel counts per month in word representation\n",
        "hb['month']=hb['date'].dt.month # extract month from date column\n",
        "hotel_counts_by_month = hb.groupby('month')['hotel'].count()\n",
        "plt.figure(figsize = (11,8))\n",
        "c=['r','b','g','y']\n",
        "plt.stem(hotel_counts_by_month.index, hotel_counts_by_month.values,linefmt=\":\",markerfmt=\"r^\")\n",
        "plt.xlabel('Month',fontsize=15)\n",
        "plt.ylabel('Number of Bookings',fontsize=15)\n",
        "plt.title('Monthly Bookings Trend',fontsize=15)\n",
        "plt.xticks(ticks=range(1, 13), labels=['January', 'February', 'March', 'April', 'May', 'June',\n",
        "                                       'July', 'August', 'September', 'October', 'November', 'December'],\n",
        "           rotation=90,fontsize=9, fontweight='bold')\n",
        "for i, value in enumerate(hotel_counts_by_month.values): # iterate index and values in counts of booking hotel month wise\n",
        "    plt.text(hotel_counts_by_month.index[i], value+30, f'{value}', ha='left', va='baseline',fontweight='bold',rotation=45,fontsize=7)\n",
        "plt.ylim(bottom=0)\n",
        "plt.show()"
      ],
      "metadata": {
        "id": "irlUoxc8YrdO"
      },
      "execution_count": null,
      "outputs": []
    },
    {
      "cell_type": "code",
      "source": [
        "hb.drop(columns=['month'],inplace=True)#-------dropped the columns of month after use for safer analysis"
      ],
      "metadata": {
        "id": "Izds5M5WNhgJ"
      },
      "execution_count": null,
      "outputs": []
    },
    {
      "cell_type": "markdown",
      "source": [
        "##### 1. Why did you pick the specific chart?"
      ],
      "metadata": {
        "id": "iky9q4vBYrdO"
      }
    },
    {
      "cell_type": "markdown",
      "source": [
        "**Calculating Hotel Counts by Month:**\n",
        "\n",
        "The code first extracts the month from the 'date' column and creates a new column named 'month'. Then, it groups the data by month and counts the number of bookings for each month.\n",
        "\n",
        "\n",
        "---\n",
        "\n",
        "\n",
        "\n",
        "**Plotting the Monthly Bookings Trend:**\n",
        "\n",
        "The stem plot is used to visualize the monthly bookings trend. Each stem represents a month, with the height of the stem corresponding to the number of bookings in that month. The x-axis represents the months, and the y-axis represents the number of bookings."
      ],
      "metadata": {
        "id": "aJRCwT6DYrdO"
      }
    },
    {
      "cell_type": "markdown",
      "source": [
        "##### 2. What is/are the insight(s) found from the chart?"
      ],
      "metadata": {
        "id": "F6T5p64dYrdO"
      }
    },
    {
      "cell_type": "markdown",
      "source": [
        "**Monthly Variation:** The plot shows the variation in the number of bookings across different months. Some months have higher booking numbers than others, indicating seasonal trends or specific periods of higher demand.\n",
        "\n",
        "**Peak Months**: The plot helps identify the months with the highest number of bookings, which can be useful for planning and resource allocation.\n",
        "\n",
        "**Monthly Trend**: The plot shows the overall trend of bookings over the months, helping to identify patterns or changes in demand over time."
      ],
      "metadata": {
        "id": "Xx8WAJvtYrdO"
      }
    },
    {
      "cell_type": "markdown",
      "source": [
        "##### 3. Will the gained insights help creating a positive business impact?\n",
        "Are there any insights that lead to negative growth? Justify with specific reason."
      ],
      "metadata": {
        "id": "y-Ehk30pYrdP"
      }
    },
    {
      "cell_type": "markdown",
      "source": [
        "**Positive Business Impact:**\n",
        "\n",
        "The insights gained from the plot can help create a positive business impact by informing strategic decisions, such as:\n",
        "\n",
        "**Marketing Strategies:** Based on the monthly trends, hotels can plan targeted marketing campaigns to attract more customers during peak months or during periods of low demand.\n",
        "\n",
        "**Pricing Strategies:** Hotels can adjust their pricing strategies based on demand fluctuations. For example, they can offer discounts or promotions during low-demand months to attract more bookings.\n",
        "Resource Allocation: By understanding the monthly variation in bookings, hotels can allocate resources more efficiently, such as staffing levels, inventory management, and maintenance schedules.\n",
        "\n",
        "\n",
        "---\n",
        "\n",
        "\n",
        "**Potential Negative Growth:**\n",
        "\n",
        "**Seasonal Variation:** If a hotel business heavily relies on bookings during specific months and experiences a decline in demand during those months, it could lead to negative growth.\n",
        "\n",
        "**Inability to Adapt:** If there's a significant change in monthly booking trends, and the business is not able to adapt its marketing or pricing strategies accordingly, it could lead to negative growth.\n",
        "\n",
        "\n",
        "\n",
        "---\n",
        "\n",
        "\n",
        "**Conclusion:**\n",
        "\n",
        "The stem plot provides valuable insights into the monthly bookings trend, which can help hotels make informed decisions to optimize their operations and drive positive business outcomes. However, it's essential for hotel businesses to remain agile and responsive to changing market conditions to mitigate potential negative impacts."
      ],
      "metadata": {
        "id": "jLNxxz7MYrdP"
      }
    },
    {
      "cell_type": "markdown",
      "source": [
        "#### Chart - 5"
      ],
      "metadata": {
        "id": "bamQiAODYuh1"
      }
    },
    {
      "cell_type": "code",
      "source": [
        "# Chart - 5 visualization code (ADR Across Distribution Channel)\n",
        "\n",
        "# Group by distribution_channel and hotel and calculate the average ADR\n",
        "distribution_channel_df = hb.groupby(['distribution_channel', 'hotel'])['adr'].mean().reset_index()\n",
        "\n",
        "# Set plot size and plot bar chart\n",
        "plt.figure(figsize = (11,8))\n",
        "ax=sns.barplot(data= distribution_channel_df,x ='distribution_channel', y= 'adr', hue = 'hotel',palette='Accent')\n",
        "adr_value = f'{height:.2f}'\n",
        "for p in ax.patches:\n",
        "    height = p.get_height()\n",
        "    adr_value = f'ADR={height:.1f}' # getting adr values for each bar\n",
        "    ax.annotate(adr_value, (p.get_x() + p.get_width() / 2., height), ha='center', va='center'\n",
        "    , fontsize=8, color='black', xytext=(1, 5), textcoords='offset pixels')\n",
        "plt.title('ADR Across Distribution Channel',fontsize=15,)\n",
        "plt.xticks(fontweight='bold')\n",
        "plt.xlabel('Distribution Channel',fontsize=15)\n",
        "plt.ylabel('Average Daily Rate (ADR)',fontsize=15)\n",
        "fig.show()"
      ],
      "metadata": {
        "id": "TIJwrbroYuh3"
      },
      "execution_count": null,
      "outputs": []
    },
    {
      "cell_type": "markdown",
      "source": [
        "##### 1. Why did you pick the specific chart?"
      ],
      "metadata": {
        "id": "QHF8YVU7Yuh3"
      }
    },
    {
      "cell_type": "markdown",
      "source": [
        "**Grouping and Calculating ADR:**\n",
        "\n",
        "The code first groups the data by the distribution_channel and hotel columns and calculates the mean ADR for each group. It then resets the index to create a new DataFrame called distribution_channel_df.\n",
        "\n",
        "\n",
        "\n",
        "---\n",
        "\n",
        "\n",
        "\n",
        "**Plotting the Bar Chart:**\n",
        "\n",
        "The bar plot visualizes the average ADR across different distribution channels for each hotel type. Each bar represents a distribution channel, and the height of the bar represents the average ADR. The bars are grouped by hotel type, indicated by different colors."
      ],
      "metadata": {
        "id": "dcxuIMRPYuh3"
      }
    },
    {
      "cell_type": "markdown",
      "source": [
        "##### 2. What is/are the insight(s) found from the chart?"
      ],
      "metadata": {
        "id": "GwzvFGzlYuh3"
      }
    },
    {
      "cell_type": "markdown",
      "source": [
        "**ADR Variation Across Channels:** The plot shows the variation in ADR across different distribution channels for each hotel type. Some channels may have higher or lower ADRs compared to others.\n",
        "\n",
        "**Comparing Hotel Types:** The plot allows for a comparison of ADRs between City Hotels and Resort Hotels across different distribution channels."
      ],
      "metadata": {
        "id": "uyqkiB8YYuh3"
      }
    },
    {
      "cell_type": "markdown",
      "source": [
        "##### 3. Will the gained insights help creating a positive business impact?\n",
        "Are there any insights that lead to negative growth? Justify with specific reason."
      ],
      "metadata": {
        "id": "qYpmQ266Yuh3"
      }
    },
    {
      "cell_type": "markdown",
      "source": [
        "**Positive Business Impact:**\n",
        "\n",
        "The insights gained from the plot can help create a positive business impact by informing strategic decisions, such as:\n",
        "\n",
        "**Pricing Strategies:** Hotels can adjust their pricing strategies based on ADR variations across different distribution channels. For example, they can offer discounts or promotions through specific channels to attract more bookings.\n",
        "\n",
        "**Distribution Channel Optimization:** Hotels can optimize their distribution channels based on ADR performance. They can focus on channels that yield higher ADRs and allocate resources accordingly.\n",
        "\n",
        "\n",
        "\n",
        "---\n",
        "\n",
        "\n",
        "**Potential Negative Growth:**\n",
        "\n",
        "**ADR Decline:** If the ADR across all channels shows a declining trend, it could lead to negative growth as it may indicate a decrease in revenue per booking.\n",
        "\n",
        "**Inability to Adapt:** If there's a significant change in ADR trends, and the business is not able to adapt its pricing or distribution strategies accordingly, it could lead to negative growth.\n",
        "\n",
        "\n",
        "\n",
        "---\n",
        "\n",
        "\n",
        "**Conclusion:**\n",
        "\n",
        "The bar plot provides valuable insights into the average ADR across different distribution channels for City Hotels and Resort Hotels, which can help hotels make informed decisions to optimize their revenue and drive positive business outcomes. However, it's essential for hotel businesses to remain agile and responsive to changing market conditions to mitigate potential negative impacts."
      ],
      "metadata": {
        "id": "_WtzZ_hCYuh4"
      }
    },
    {
      "cell_type": "markdown",
      "source": [
        "#### Chart - 6"
      ],
      "metadata": {
        "id": "OH-pJp9IphqM"
      }
    },
    {
      "cell_type": "code",
      "source": [
        "# Chart - 6 visualization code (Hotel Type vs. Cancellation Status)\n",
        "\n",
        "plt.figure(figsize =(12,6))\n",
        "\n",
        "#palette parameter allows you to customize the colors used in the plot\n",
        "ax1 = sns.countplot(data = hb,x = 'hotel', hue = 'is_canceled',palette='Dark2')\n",
        "\n",
        "# Add value annotations to each bar\n",
        "for p in ax1.patches:\n",
        "    height = p.get_height()\n",
        "    width = p.get_width()\n",
        "    x, y = p.get_xy()\n",
        "    ax1.annotate(f'{int(height)}', (x + width / 2, height), ha='center', va='bottom', fontsize=10)\n",
        "\n",
        "plt.title ('Hotel Type vs. Cancellation Status',fontsize=15)\n",
        "plt.xlabel('Hotel',fontsize=15)\n",
        "plt.ylabel('Number of Reservation',fontsize=15)\n",
        "\n",
        "\n",
        "plt.show()"
      ],
      "metadata": {
        "id": "kuRf4wtuphqN"
      },
      "execution_count": null,
      "outputs": []
    },
    {
      "cell_type": "markdown",
      "source": [
        "##### 1. Why did you pick the specific chart?"
      ],
      "metadata": {
        "id": "bbFf2-_FphqN"
      }
    },
    {
      "cell_type": "markdown",
      "source": [
        "The chart type used is a countplot from the Seaborn library, which is suitable for comparing the frequency of categorical variables."
      ],
      "metadata": {
        "id": "loh7H2nzphqN"
      }
    },
    {
      "cell_type": "markdown",
      "source": [
        "##### 2. What is/are the insight(s) found from the chart?"
      ],
      "metadata": {
        "id": "_ouA3fa0phqN"
      }
    },
    {
      "cell_type": "markdown",
      "source": [
        "\n",
        "\n",
        "*  The plot shows the number of reservations for each hotel type (City Hotel and Resort Hotel) and differentiates between canceled and non-canceled reservations.\n",
        "\n",
        "*  It can be observed that City Hotels have a higher number of both canceled and non-canceled reservations compared to Resort Hotels.\n",
        "\n",
        "*  Additionally, the plot shows that canceled reservations are more common in City Hotels compared to Resort Hotels.\n",
        "\n",
        "\n",
        "\n"
      ],
      "metadata": {
        "id": "VECbqPI7phqN"
      }
    },
    {
      "cell_type": "markdown",
      "source": [
        "##### 3. Will the gained insights help creating a positive business impact?\n",
        "Are there any insights that lead to negative growth? Justify with specific reason."
      ],
      "metadata": {
        "id": "Seke61FWphqN"
      }
    },
    {
      "cell_type": "markdown",
      "source": [
        "**Positive Business Impact:**\n",
        "\n",
        "\n",
        "*   The insights gained from the plot can help hotels understand the distribution of canceled and non-canceled reservations across different hotel types.\n",
        "*   This information can be used to optimize cancellation policies, improve customer service, and enhance booking processes to reduce the number of canceled reservations.\n",
        "\n",
        "\n",
        "---\n",
        "\n",
        "\n",
        "**Negative Growth Considerations:**\n",
        "\n",
        "\n",
        "*   If the cancellation rate remains consistently high for a hotel, it can lead to a negative impact on revenue and overall business growth.\n",
        "*   High cancellation rates may indicate dissatisfaction with the hotel's services or pricing, leading to negative reviews and a decline in bookings.\n",
        "\n",
        "\n",
        "---\n",
        "\n",
        "**Conclusion:**\n",
        "\n",
        "\n",
        "*   The bar plot provides a clear visualization of the relationship between hotel type and cancellation status, which can help hotels make informed decisions to improve customer satisfaction and reduce cancellations.\n",
        "*   By addressing the factors contributing to canceled reservations, hotels can work towards positive business outcomes, such as increased customer loyalty and improved financial performance.\n",
        "\n",
        "\n",
        "\n",
        "\n"
      ],
      "metadata": {
        "id": "DW4_bGpfphqN"
      }
    },
    {
      "cell_type": "markdown",
      "source": [
        "#### Chart - 7"
      ],
      "metadata": {
        "id": "PIIx-8_IphqN"
      }
    },
    {
      "cell_type": "code",
      "source": [
        "# Chart - 7 visualization code (Special Requests)\n",
        "\n",
        "plt.figure(figsize =(12,6))\n",
        "ax1 = sns.countplot(data = hb,x = 'hotel', hue = 'total_of_special_requests',palette='Dark2')\n",
        "\n",
        "# Add value annotations to each bar\n",
        "for p in ax1.patches:\n",
        "    height = p.get_height()\n",
        "    width = p.get_width()\n",
        "    x, y = p.get_xy()\n",
        "    ax1.annotate(f'{int(height)}', (x + width / 2, height), ha='center', va='bottom', fontsize=10)\n",
        "\n",
        "plt.title ('Special Requests',fontsize=15)\n",
        "plt.xlabel('Hotel',fontsize=15)\n",
        "plt.ylabel('Requests',fontsize=15)\n",
        "\n",
        "\n",
        "plt.show()"
      ],
      "metadata": {
        "id": "lqAIGUfyphqO"
      },
      "execution_count": null,
      "outputs": []
    },
    {
      "cell_type": "markdown",
      "source": [
        "##### 1. Why did you pick the specific chart?"
      ],
      "metadata": {
        "id": "t27r6nlMphqO"
      }
    },
    {
      "cell_type": "markdown",
      "source": [
        "The chart type used is a countplot from the Seaborn library, which is suitable for comparing the frequency of categorical variables."
      ],
      "metadata": {
        "id": "iv6ro40sphqO"
      }
    },
    {
      "cell_type": "markdown",
      "source": [
        "##### 2. What is/are the insight(s) found from the chart?"
      ],
      "metadata": {
        "id": "r2jJGEOYphqO"
      }
    },
    {
      "cell_type": "markdown",
      "source": [
        "\n",
        "\n",
        "*   The plot shows the number of reservations for each hotel type (City Hotel and Resort Hotel) and differentiates between canceled and non-canceled reservations.\n",
        "\n",
        "*   It can be observed that City Hotels have a higher number of both canceled and non-canceled reservations compared to Resort Hotels.\n",
        "\n",
        "\n",
        "*   Additionally, the plot shows that canceled reservations are more common in City Hotels compared to Resort Hotels.\n",
        "\n",
        "\n",
        "\n",
        "\n"
      ],
      "metadata": {
        "id": "Po6ZPi4hphqO"
      }
    },
    {
      "cell_type": "markdown",
      "source": [
        "##### 3. Will the gained insights help creating a positive business impact?\n",
        "Are there any insights that lead to negative growth? Justify with specific reason."
      ],
      "metadata": {
        "id": "b0JNsNcRphqO"
      }
    },
    {
      "cell_type": "markdown",
      "source": [
        "**Positive Business Impact:**\n",
        "\n",
        "\n",
        "*   The insights gained from the plot can help hotels understand the distribution of special requests across different hotel types.\n",
        "\n",
        "*   This information can be used to enhance customer service, tailor amenities, and improve overall guest experience.\n",
        "\n",
        "\n",
        "---\n",
        "\n",
        "\n",
        "\n",
        "\n",
        "\n",
        "\n",
        "\n",
        "**Negative Growth Considerations:**\n",
        "\n",
        "\n",
        "*   If guests consistently make a high number of special requests, it could indicate dissatisfaction with the standard services or amenities provided by the hotel.\n",
        "*   High numbers of special requests may also increase operational costs for the hotel, affecting profitability.\n",
        "\n",
        "\n",
        "---\n",
        "\n",
        "\n",
        "\n",
        "\n",
        "\n",
        "\n",
        "**Conclusion:**\n",
        "\n",
        "\n",
        "*   The bar plot provides a clear visualization of the relationship between hotel type and the total number of special requests, which can help hotels make informed decisions to improve guest satisfaction and overall service quality.\n",
        "*   By addressing the factors contributing to special requests, hotels can work towards positive business outcomes, such as increased guest loyalty and improved guest ratings.\n",
        "\n",
        "\n",
        "\n",
        "\n"
      ],
      "metadata": {
        "id": "iwi-oXgekXau"
      }
    },
    {
      "cell_type": "markdown",
      "source": [],
      "metadata": {
        "id": "xvSq8iUTphqO"
      }
    },
    {
      "cell_type": "markdown",
      "source": [
        "#### Chart - 8"
      ],
      "metadata": {
        "id": "BZR9WyysphqO"
      }
    },
    {
      "cell_type": "code",
      "source": [
        "# Chart - 8 visualization code (Hotel Type vs. Lead Time)\n",
        "\n",
        "plt.figure(figsize=(10, 6))\n",
        "sns.boxplot(data=hb, x='hotel', y='lead_time')\n",
        "plt.title('Hotel Type vs. Lead Time',fontsize=15)\n",
        "plt.xlabel('Hotel',fontsize=15)\n",
        "plt.ylabel('Lead Time',fontsize=15)\n",
        "plt.show()"
      ],
      "metadata": {
        "id": "TdPTWpAVphqO"
      },
      "execution_count": null,
      "outputs": []
    },
    {
      "cell_type": "markdown",
      "source": [
        "##### 1. Why did you pick the specific chart?"
      ],
      "metadata": {
        "id": "jj7wYXLtphqO"
      }
    },
    {
      "cell_type": "markdown",
      "source": [
        "The chart type used is a boxplot from the Seaborn library, which is suitable for visualizing the distribution of a continuous variable (lead time) across different categories (hotel types)."
      ],
      "metadata": {
        "id": "Ob8u6rCTphqO"
      }
    },
    {
      "cell_type": "markdown",
      "source": [
        "##### 2. What is/are the insight(s) found from the chart?"
      ],
      "metadata": {
        "id": "eZrbJ2SmphqO"
      }
    },
    {
      "cell_type": "markdown",
      "source": [
        "\n",
        "\n",
        "*   The plot shows the distribution of lead times for each hotel type (City Hotel and Resort Hotel).\n",
        "\n",
        "*   It can be observed that the median lead time is slightly higher for City Hotels compared to Resort Hotels.\n",
        "*   The box plot also provides information about the spread of lead times, including the interquartile range (IQR) and any outliers.\n",
        "\n",
        "\n",
        "\n",
        "\n",
        "\n"
      ],
      "metadata": {
        "id": "mZtgC_hjphqO"
      }
    },
    {
      "cell_type": "markdown",
      "source": [
        "##### 3. Will the gained insights help creating a positive business impact?\n",
        "Are there any insights that lead to negative growth? Justify with specific reason."
      ],
      "metadata": {
        "id": "rFu4xreNphqO"
      }
    },
    {
      "cell_type": "markdown",
      "source": [
        "**Positive Business Impact:**\n",
        "\n",
        "\n",
        "*   The insights gained from the plot can help hotels understand the distribution of lead times across different hotel types.\n",
        "*   This information can be used to optimize operations, such as staffing levels and inventory management, based on expected lead times.\n",
        "\n",
        "\n",
        "---\n",
        "\n",
        "\n",
        "\n",
        "\n",
        "\n",
        "\n",
        "\n",
        "**Negative Growth Considerations:**\n",
        "\n",
        "\n",
        "*   If the lead time for a hotel is consistently high, it could indicate inefficiencies in the booking process or operational challenges.\n",
        "*   Long lead times may also affect customer satisfaction, as guests may perceive longer lead times as a barrier to booking.\n",
        "\n",
        "\n",
        "---\n",
        "\n",
        "\n",
        "\n",
        "\n",
        "\n",
        "**Conclusion:**\n",
        "\n",
        "\n",
        "*   The box plot provides a clear visualization of the relationship between hotel type and lead time, which can help hotels make informed decisions to improve operational efficiency and enhance guest experience.\n",
        "*   By addressing the factors contributing to lead times, hotels can work towards positive business outcomes, such as increased customer satisfaction and improved operational performance.\n",
        "\n",
        "\n",
        "\n",
        "\n"
      ],
      "metadata": {
        "id": "ey_0qi68phqO"
      }
    },
    {
      "cell_type": "markdown",
      "source": [
        "#### Chart - 9"
      ],
      "metadata": {
        "id": "YJ55k-q6phqO"
      }
    },
    {
      "cell_type": "code",
      "source": [
        "# Chart - 9 visualization code (Repeated Guest)\n",
        "\n",
        "guests_by_country = hb.groupby('hotel')['is_repeated_guest'].sum().reset_index()\n",
        "l=[\"City Hotel\",\"Resort Hotel\"]\n",
        "prefer=guests_by_country\n",
        "plt.pie(prefer.value_counts(),labels=l, autopct='%1.f%%', startangle=45, explode=(0, 0.05), colors=['red', 'green'],textprops={'fontsize': 10},shadow=True)\n",
        "plt.title(\"Repeated Guest\",fontsize=15,fontweight='bold')\n",
        "plt.show()\n",
        "#plt.show()"
      ],
      "metadata": {
        "id": "B2aS4O1ophqO"
      },
      "execution_count": null,
      "outputs": []
    },
    {
      "cell_type": "markdown",
      "source": [
        "##### 1. Why did you pick the specific chart?"
      ],
      "metadata": {
        "id": "gCFgpxoyphqP"
      }
    },
    {
      "cell_type": "markdown",
      "source": [
        "The specific chart chosen is a pie chart. Pie charts are effective for showing the distribution of parts to a whole, often used to visualize categorical data. In this case, the chart helps to understand the proportion of repeated guests for each hotel type (City Hotel and Resort Hotel)."
      ],
      "metadata": {
        "id": "TVxDimi2phqP"
      }
    },
    {
      "cell_type": "markdown",
      "source": [
        "##### 2. What is/are the insight(s) found from the chart?"
      ],
      "metadata": {
        "id": "OVtJsKN_phqQ"
      }
    },
    {
      "cell_type": "markdown",
      "source": [
        "**Proportion of Repeated Guests:** The chart shows the proportion of repeated guests for each hotel type. It can be observed that a higher proportion of guests are repeated guests at the Resort Hotel compared to the City Hotel.\n",
        "\n",
        "**Overall Proportion:** The chart also shows the overall proportion of repeated guests across all hotels, providing a holistic view of guest behavior."
      ],
      "metadata": {
        "id": "ngGi97qjphqQ"
      }
    },
    {
      "cell_type": "markdown",
      "source": [
        "##### 3. Will the gained insights help creating a positive business impact?\n",
        "Are there any insights that lead to negative growth? Justify with specific reason."
      ],
      "metadata": {
        "id": "lssrdh5qphqQ"
      }
    },
    {
      "cell_type": "markdown",
      "source": [
        "**Positive Business Impact:**\n",
        "\n",
        "The insights gained from the chart can help create a positive business impact by informing strategic decisions, such as:\n",
        "\n",
        "\n",
        "*   Customer Retention: Understanding the proportion of repeated guests can help hotels focus on retaining these guests by offering loyalty programs or personalized services.\n",
        "*   Marketing Strategies: Hotels can tailor their marketing strategies to attract more repeated guests based on their preferences and booking behavior.\n",
        "\n",
        "\n",
        "---\n",
        "\n",
        "\n",
        "\n",
        "\n",
        "\n",
        "\n",
        "\n",
        "**Negative Growth Considerations:**\n",
        "\n",
        "\n",
        "*   High Churn Rate: If the proportion of repeated guests is low or decreasing, it could indicate a high churn rate, which may lead to negative growth as it could affect the hotel's revenue and profitability.\n",
        "*   Customer Satisfaction: A low proportion of repeated guests could also indicate dissatisfaction with the hotel's services or amenities, leading to negative reviews and a decline in bookings.\n",
        "\n",
        "\n",
        "---\n",
        "\n",
        "\n",
        "\n",
        "\n",
        "\n",
        "\n",
        "\n",
        "**Conclusion:**\n",
        "\n",
        "The pie chart provides valuable insights into the proportion of repeated guests for each hotel type, which can help hotels make informed decisions to improve customer retention and drive positive business outcomes. However, it's essential for hotel businesses to remain agile and responsive to changing market conditions to mitigate potential negative impacts."
      ],
      "metadata": {
        "id": "tBpY5ekJphqQ"
      }
    },
    {
      "cell_type": "markdown",
      "source": [
        "#### Chart - 10"
      ],
      "metadata": {
        "id": "U2RJ9gkRphqQ"
      }
    },
    {
      "cell_type": "code",
      "source": [
        "# Chart - 10 visualization code (Hotel Type vs. Market Segment)\n",
        "\n",
        "plt.figure(figsize=(12, 6))\n",
        "sns.countplot(hb, x='hotel', hue='market_segment', palette='muted')\n",
        "plt.title('Hotel Type vs. Market Segment',fontsize=15)\n",
        "plt.xlabel('Hotel',fontsize=15)\n",
        "plt.ylabel('Number of Bookings',fontsize=15)\n",
        "plt.legend(title='Market Segment', loc='upper right')\n",
        "plt.show()"
      ],
      "metadata": {
        "id": "GM7a4YP4phqQ"
      },
      "execution_count": null,
      "outputs": []
    },
    {
      "cell_type": "markdown",
      "source": [
        "##### 1. Why did you pick the specific chart?"
      ],
      "metadata": {
        "id": "1M8mcRywphqQ"
      }
    },
    {
      "cell_type": "markdown",
      "source": [
        "The chart type used is a countplot from the Seaborn library, which is suitable for comparing the frequency of categorical variables."
      ],
      "metadata": {
        "id": "8agQvks0phqQ"
      }
    },
    {
      "cell_type": "markdown",
      "source": [
        "##### 2. What is/are the insight(s) found from the chart?"
      ],
      "metadata": {
        "id": "tgIPom80phqQ"
      }
    },
    {
      "cell_type": "markdown",
      "source": [
        "\n",
        "\n",
        "*   The plot shows the number of bookings for each hotel type (City Hotel and Resort Hotel) and differentiates between market segments.\n",
        "\n",
        "*   It can be observed that the majority of bookings for both hotel types come from the Online Travel Agent (OTA) and Offline Travel Agent (OTA) segments.\n",
        "*   The plot also shows variations in booking patterns across different market segments for each hotel type.\n",
        "\n",
        "\n",
        "\n",
        "\n",
        "*   List item\n",
        "\n"
      ],
      "metadata": {
        "id": "Qp13pnNzphqQ"
      }
    },
    {
      "cell_type": "markdown",
      "source": [
        "##### 3. Will the gained insights help creating a positive business impact?\n",
        "Are there any insights that lead to negative growth? Justify with specific reason."
      ],
      "metadata": {
        "id": "JMzcOPDDphqR"
      }
    },
    {
      "cell_type": "markdown",
      "source": [
        "**Positive Business Impact:**\n",
        "\n",
        "\n",
        "*   The insights gained from the plot can help hotels understand the distribution of bookings across different market segments for each hotel type.\n",
        "*   This information can be used to optimize marketing strategies, allocate resources, and tailor services based on the preferences and behaviors of guests from different market segments.\n",
        "\n",
        "\n",
        "---\n",
        "\n",
        "\n",
        "\n",
        "\n",
        "\n",
        "\n",
        "\n",
        "**Negative Growth Considerations:**\n",
        "\n",
        "\n",
        "*   If there's a significant decline in bookings from certain market segments, it could indicate a loss of market share or a decrease in demand, leading to negative growth.\n",
        "*   High dependency on a specific market segment can also be a risk factor, as changes in the behavior or preferences of that segment can impact the hotel's revenue and profitability.\n",
        "\n",
        "\n",
        "---\n",
        "\n",
        "\n",
        "\n",
        "\n",
        "\n",
        "\n",
        "**Conclusion:**\n",
        "\n",
        "\n",
        "*   The count plot provides a clear visualization of the relationship between hotel type and market segment, which can help hotels make informed decisions to optimize revenue and drive positive business outcomes.\n",
        "*   By understanding the distribution of bookings across different market segments, hotels can tailor their marketing efforts, improve customer targeting, and enhance overall guest experience.\n",
        "\n",
        "\n",
        "\n",
        "\n"
      ],
      "metadata": {
        "id": "R4Ka1PC2phqR"
      }
    },
    {
      "cell_type": "markdown",
      "source": [
        "#### Chart - 11"
      ],
      "metadata": {
        "id": "x-EpHcCOp1ci"
      }
    },
    {
      "cell_type": "code",
      "source": [
        "# Chart - 11 visualization code (Total Guests by Country)\n",
        "\n",
        "# Group by 'country' and calculate the total number of guests for each country\n",
        "guests_by_country = hb.groupby('country')['total_guests'].sum().reset_index()\n",
        "\n",
        "# Sort the data by the total number of guests in descending order\n",
        "guests_by_country = guests_by_country.sort_values('total_guests', ascending=False)\n",
        "\n",
        "# Select the top 15 countries with the highest number of guests\n",
        "top_10_countries = guests_by_country.head(10)\n",
        "\n",
        "# Create the bar plot\n",
        "plt.figure(figsize=(12, 6))\n",
        "sns.barplot(data=top_10_countries, x='country',y ='total_guests', palette='viridis')\n",
        "plt.title('Total Guests by Country',fontsize=15)\n",
        "plt.xlabel('Country',fontsize=15)\n",
        "plt.xticks(fontweight='bold')\n",
        "plt.ylabel('Total Guests',fontsize=15)\n",
        "plt.show()"
      ],
      "metadata": {
        "id": "mAQTIvtqp1cj"
      },
      "execution_count": null,
      "outputs": []
    },
    {
      "cell_type": "markdown",
      "source": [
        "##### 1. Why did you pick the specific chart?"
      ],
      "metadata": {
        "id": "X_VqEhTip1ck"
      }
    },
    {
      "cell_type": "markdown",
      "source": [
        "The chart type used is a barplot from the Seaborn library, which is suitable for comparing the values of a categorical variable (country) across different categories."
      ],
      "metadata": {
        "id": "-vsMzt_np1ck"
      }
    },
    {
      "cell_type": "markdown",
      "source": [
        "##### 2. What is/are the insight(s) found from the chart?"
      ],
      "metadata": {
        "id": "8zGJKyg5p1ck"
      }
    },
    {
      "cell_type": "markdown",
      "source": [
        "\n",
        "\n",
        "*   The plot shows the total number of guests for each of the top 15 countries with the highest number of guests.\n",
        "\n",
        "*   It can be observed that the top countries with the highest number of guests are not necessarily the most populous countries.\n",
        "*   The plot also shows variations in the number of guests across different countries.\n",
        "\n",
        "\n",
        "\n",
        "\n",
        "\n",
        "\n"
      ],
      "metadata": {
        "id": "ZYdMsrqVp1ck"
      }
    },
    {
      "cell_type": "markdown",
      "source": [
        "##### 3. Will the gained insights help creating a positive business impact?\n",
        "Are there any insights that lead to negative growth? Justify with specific reason."
      ],
      "metadata": {
        "id": "PVzmfK_Ep1ck"
      }
    },
    {
      "cell_type": "markdown",
      "source": [
        "**Positive Business Impact:**\n",
        "\n",
        "\n",
        "*   The insights gained from the plot can help hotels understand the distribution of guests across different countries.\n",
        "\n",
        "*   This information can be used to optimize marketing strategies, tailor services, and improve guest targeting based on the preferences and behaviors of guests from different countries.\n",
        "\n",
        "\n",
        "---\n",
        "\n",
        "\n",
        "\n",
        "\n",
        "\n",
        "\n",
        "\n",
        "**Negative Growth Considerations:**\n",
        "\n",
        "\n",
        "*   If there's a significant decline in the number of guests from certain countries, it could indicate a loss of market share or a decrease in demand, leading to negative growth.\n",
        "\n",
        "*   High dependency on a specific country for guests can also be a risk factor, as changes in the behavior or preferences of that country's guests can impact the hotel's revenue and profitability.\n",
        "\n",
        "\n",
        "---\n",
        "\n",
        "\n",
        "\n",
        "\n",
        "\n",
        "\n",
        "\n",
        "**Conclusion:**\n",
        "\n",
        "\n",
        "*   The bar plot provides a clear visualization of the total number of guests by country, which can help hotels make informed decisions to optimize revenue and drive positive business outcomes.\n",
        "\n",
        "*   By understanding the distribution of guests across different countries, hotels can tailor their marketing efforts, improve customer targeting, and enhance overall guest experience.\n",
        "\n",
        "\n",
        "\n",
        "\n"
      ],
      "metadata": {
        "id": "druuKYZpp1ck"
      }
    },
    {
      "cell_type": "markdown",
      "source": [
        "#### Chart - 12"
      ],
      "metadata": {
        "id": "n3dbpmDWp1ck"
      }
    },
    {
      "cell_type": "code",
      "source": [
        "# Chart - 12 visualization code (Total Guests by Country)\n",
        "\n",
        "plt.figure(figsize=(10, 6))\n",
        "plt.scatter(hb['total_stay'], hb['total_guests'], color='r', marker='.',cmap=\"Accent\")\n",
        "plt.title('Total Guests by Country',fontsize=15)\n",
        "plt.xlabel('Total Stay (Weekend Nights + Week Nights)',fontsize=15)\n",
        "plt.ylabel('Total Guest')\n",
        "plt.grid(True, axis='both', color='green', linestyle=':', linewidth=0.5, alpha=0.5, zorder=0)\n",
        "plt.show()"
      ],
      "metadata": {
        "id": "bwevp1tKp1ck"
      },
      "execution_count": null,
      "outputs": []
    },
    {
      "cell_type": "markdown",
      "source": [
        "##### 1. Why did you pick the specific chart?"
      ],
      "metadata": {
        "id": "ylSl6qgtp1ck"
      }
    },
    {
      "cell_type": "markdown",
      "source": [
        "The chart type used is a scatter plot from the Matplotlib library, which is suitable for visualizing the relationship between two continuous variables."
      ],
      "metadata": {
        "id": "m2xqNkiQp1ck"
      }
    },
    {
      "cell_type": "markdown",
      "source": [
        "##### 2. What is/are the insight(s) found from the chart?"
      ],
      "metadata": {
        "id": "ZWILFDl5p1ck"
      }
    },
    {
      "cell_type": "markdown",
      "source": [
        "\n",
        "\n",
        "*   The plot shows the total number of guests on the y-axis and the total stay (weekend nights + week nights) on the x-axis for each booking.\n",
        "*   It can be observed that there is a wide range of total stays and total guests, with some bookings having a high total stay and high total guests, while others have a low total stay and low total guests.\n",
        "\n",
        "*   The plot also shows variations in the distribution of total guests across different total stays.\n",
        "\n",
        "\n",
        "\n",
        "\n",
        "\n",
        "\n",
        "\n"
      ],
      "metadata": {
        "id": "x-lUsV2mp1ck"
      }
    },
    {
      "cell_type": "markdown",
      "source": [
        "##### 3. Will the gained insights help creating a positive business impact?\n",
        "Are there any insights that lead to negative growth? Justify with specific reason."
      ],
      "metadata": {
        "id": "M7G43BXep1ck"
      }
    },
    {
      "cell_type": "markdown",
      "source": [
        "**Positive Business Impact:**\n",
        "\n",
        "\n",
        "*   The insights gained from the plot can help hotels understand the relationship between the total stay and the total number of guests.\n",
        "\n",
        "*   This information can be used to optimize pricing strategies, allocate resources, and tailor services based on the preferences and behaviors of guests with different total stays.\n",
        "\n",
        "\n",
        "---\n",
        "\n",
        "\n",
        "\n",
        "\n",
        "\n",
        "\n",
        "\n",
        "**Negative Growth Considerations:**\n",
        "\n",
        "\n",
        "*   If there's a significant decline in the number of guests with longer total stays, it could indicate a decrease in demand for longer stays, leading to negative growth.\n",
        "\n",
        "*  High dependency on a specific total stay duration can also be a risk factor, as changes in the behavior or preferences of guests with that total stay duration can impact the hotel's revenue and profitability.\n",
        "\n",
        "\n",
        "\n",
        "\n",
        "---\n",
        "\n",
        "\n",
        "\n",
        "**Conclusion:**\n",
        "\n",
        "\n",
        "*   The scatter plot provides a clear visualization of the relationship between the total stay and the total number of guests, which can help hotels make informed decisions to optimize revenue and drive positive business outcomes.\n",
        "\n",
        "*   By understanding the relationship between the total stay and the total number of guests, hotels can tailor their marketing efforts, improve customer targeting, and enhance overall guest experience.\n",
        "\n",
        "\n",
        "\n",
        "\n"
      ],
      "metadata": {
        "id": "5wwDJXsLp1cl"
      }
    },
    {
      "cell_type": "markdown",
      "source": [
        "#### Chart - 13"
      ],
      "metadata": {
        "id": "Ag9LCva-p1cl"
      }
    },
    {
      "cell_type": "code",
      "source": [
        "grouped = hb.groupby('hotel')\n",
        "df1 = grouped.get_group('Resort Hotel')\n",
        "df2 = grouped.get_group('City Hotel')\n",
        "df1"
      ],
      "metadata": {
        "id": "EUfxeq9-p1cl"
      },
      "execution_count": null,
      "outputs": []
    },
    {
      "cell_type": "code",
      "source": [
        "# Chart - 13 visualization code (Data of Agent)\n",
        "\n",
        "fig, axs = plt.subplots(1, 2, figsize=(12, 6))\n",
        "\n",
        "# Get the top 10 highest value counts in column 'agent' for column 'A'\n",
        "top_10_df1 = df1['agent'].value_counts().sort_values(ascending=False).head(10)#.sort_index().head(10)\n",
        "# Create a histogram plot for column 'A'\n",
        "top_10_df1.plot(kind='bar', ax=axs[0],edgecolor='black')\n",
        "axs[0].set_xlabel('Resort Hotel Agent')\n",
        "axs[0].set_ylabel('Booking Counts')\n",
        "axs[0].set_title('Top 10 Agents')\n",
        "\n",
        "# Get the top 10 highest value counts in column 'agent' for column 'B'\n",
        "top_10_df2 = df2['agent'].value_counts().sort_values(ascending=False).head(10)\n",
        "# Create a histogram plot for column 'B'\n",
        "top_10_df2.plot(kind='bar', ax=axs[1],edgecolor='black')\n",
        "axs[1].set_xlabel('City Hotel Agents')\n",
        "axs[1].set_ylabel('Booking Counts')\n",
        "axs[1].set_title('Top 10 Agents')\n",
        "\n",
        "# Adjust layout\n",
        "plt.tight_layout()\n",
        "\n",
        "# Show plot\n",
        "plt.show()"
      ],
      "metadata": {
        "id": "-97r_xtRl00U"
      },
      "execution_count": null,
      "outputs": []
    },
    {
      "cell_type": "code",
      "source": [
        "top_10_counts=hb.groupby('hotel')['agent'].value_counts().sort_values(ascending=False).head(20)\n",
        "top_10_counts.plot(kind='bar')\n",
        "plt.show()"
      ],
      "metadata": {
        "id": "WBq8i_YCfm_O"
      },
      "execution_count": null,
      "outputs": []
    },
    {
      "cell_type": "markdown",
      "source": [
        "##### 1. Why did you pick the specific chart?"
      ],
      "metadata": {
        "id": "E6MkPsBcp1cl"
      }
    },
    {
      "cell_type": "markdown",
      "source": [
        "The specific chart chosen is a bar plot. Bar plots are effective for comparing the frequency of categorical variables across different categories. In this case, the chart helps to visualize the top 10 agents for booking counts in each hotel type (Resort Hotel and City Hotel) separately."
      ],
      "metadata": {
        "id": "V22bRsFWp1cl"
      }
    },
    {
      "cell_type": "markdown",
      "source": [
        "##### 2. What is/are the insight(s) found from the chart?"
      ],
      "metadata": {
        "id": "2cELzS2fp1cl"
      }
    },
    {
      "cell_type": "markdown",
      "source": [
        "\n",
        "\n",
        "*   **Top Agents:** The chart shows the top 10 agents with the highest booking counts for each hotel type. It provides a clear comparison of the most influential agents for bookings in each hotel type.\n",
        "\n",
        "*   **Booking Trends**: The chart also highlights the popularity of specific agents in each hotel type, which could indicate booking trends or preferences among guests.\n",
        "\n",
        "\n",
        "\n"
      ],
      "metadata": {
        "id": "ozQPc2_Ip1cl"
      }
    },
    {
      "cell_type": "markdown",
      "source": [
        "##### 3. Will the gained insights help creating a positive business impact?\n",
        "Are there any insights that lead to negative growth? Justify with specific reason."
      ],
      "metadata": {
        "id": "3MPXvC8up1cl"
      }
    },
    {
      "cell_type": "markdown",
      "source": [
        "**Positive Business Impact:**\n",
        "\n",
        "\n",
        "*   **Agent Collaboration**: Understanding which agents contribute the most to bookings can help hotels establish closer collaborations with these agents, leading to more bookings and positive business impact.\n",
        "\n",
        "*   **Marketing Strategies**: Hotels can tailor their marketing strategies based on the preferences of guests who book through specific agents, improving customer targeting and increasing bookings.\n",
        "\n",
        "\n",
        "\n",
        "---\n",
        "\n",
        "\n",
        "\n",
        "\n",
        "**Negative Growth Considerations:**\n",
        "\n",
        "\n",
        "*   **Dependency on Specific Agents**: If a hotel is heavily dependent on a few agents for bookings, it could be risky, as changes in the behavior or preferences of these agents can impact the hotel's revenue and profitability.\n",
        "\n",
        "*   **Booking Concentration:** If a significant portion of bookings is concentrated among a few agents, it could indicate a lack of diversity in the hotel's booking sources, leading to negative growth.\n",
        "\n",
        "\n",
        "\n",
        "---\n",
        "\n",
        "\n",
        "\n",
        "\n",
        "\n",
        "**Conclusion:**\n",
        "\n",
        "\n",
        "*   The bar plot provides valuable insights into the top agents for bookings in each hotel type, which can help hotels make informed decisions to optimize revenue and drive positive business outcomes.\n",
        "\n",
        "*   By understanding the influence of specific agents on bookings, hotels can tailor their strategies, improve customer targeting, and enhance overall guest experience.\n",
        "\n",
        "\n"
      ],
      "metadata": {
        "id": "GL8l1tdLp1cl"
      }
    },
    {
      "cell_type": "markdown",
      "source": [
        "#### Chart - 14 - Correlation Heatmap"
      ],
      "metadata": {
        "id": "NC_X3p0fY2L0"
      }
    },
    {
      "cell_type": "code",
      "source": [
        "# Chart - 14 visualization code (Correlation Heatmap visualization code)\n",
        "\n",
        "plt.figure(figsize = (18,10))\n",
        "sns.heatmap(hb.corr(),annot = True, fmt='.2f')\n",
        "plt.title('Correlation of the Columns', fontsize = 20)\n",
        "plt.show()"
      ],
      "metadata": {
        "id": "xyC9zolEZNRQ"
      },
      "execution_count": null,
      "outputs": []
    },
    {
      "cell_type": "markdown",
      "source": [
        "##### 1. Why did you pick the specific chart?"
      ],
      "metadata": {
        "id": "UV0SzAkaZNRQ"
      }
    },
    {
      "cell_type": "markdown",
      "source": [
        "The chart type used is a heatmap from the Seaborn library. Heatmaps are used to visualize the correlation between different variables in a dataset."
      ],
      "metadata": {
        "id": "DVPuT8LYZNRQ"
      }
    },
    {
      "cell_type": "markdown",
      "source": [
        "### What is/are the insight(s) found from the chart?\n",
        "\n",
        "\n",
        "*   The plot shows the correlation coefficients between different columns in the dataset. Each cell in the heatmap represents the correlation coefficient between two columns.\n",
        "\n",
        "*   The correlation coefficient ranges from -1 to 1, where -1 indicates a perfect negative correlation, 0 indicates no correlation, and 1 indicates a perfect positive correlation.\n",
        "\n",
        "*   The color intensity in the heatmap represents the strength of the correlation, with darker colors indicating stronger correlations.\n",
        "\n",
        "\n",
        "\n",
        "\n",
        "\n"
      ],
      "metadata": {
        "id": "J0ANDAGYv21A"
      }
    },
    {
      "cell_type": "markdown",
      "source": [
        "#### Chart - 15 - Pair Plot"
      ],
      "metadata": {
        "id": "q29F0dvdveiT"
      }
    },
    {
      "cell_type": "code",
      "source": [
        "# Chart - 15 visualization code (Pair Plot visualization code)\n",
        "hb['year']=hb['date'].dt.year\n",
        "columns= ['lead_time','year','total_of_special_requests','total_stay','adr','total_guests']\n",
        "sns.pairplot(hb[columns])\n",
        "plt.show()"
      ],
      "metadata": {
        "id": "KwqfIXetFsiU"
      },
      "execution_count": null,
      "outputs": []
    },
    {
      "cell_type": "code",
      "source": [
        "hb.drop(columns=['year'])"
      ],
      "metadata": {
        "id": "hYA6cvIQyQsH"
      },
      "execution_count": null,
      "outputs": []
    },
    {
      "cell_type": "markdown",
      "source": [
        "##### 1. Why did you pick the specific chart?"
      ],
      "metadata": {
        "id": "EXh0U9oCveiU"
      }
    },
    {
      "cell_type": "markdown",
      "source": [
        "The chart type used is a pair plot from the Seaborn library. Pair plots are used to visualize the relationships between multiple numerical variables in a dataset. Each scatterplot in the pair plot represents the relationship between two variables, and the diagonal shows the distribution of each variable."
      ],
      "metadata": {
        "id": "eMmPjTByveiU"
      }
    },
    {
      "cell_type": "markdown",
      "source": [
        "##### 2. What is/are the insight(s) found from the chart?"
      ],
      "metadata": {
        "id": "22aHeOlLveiV"
      }
    },
    {
      "cell_type": "markdown",
      "source": [
        "\n",
        "\n",
        "*   The plot shows scatterplots for the relationships between different numerical variables in the dataset, such as lead time, year, total of special requests, total stay, average daily rate (ADR), and total guests.\n",
        "\n",
        "*   Each scatterplot provides insights into the relationships between two variables. For example, the scatterplot between lead time and total stay shows how the lead time of bookings is related to the total stay duration.\n",
        "\n",
        "*   The diagonal of the pair plot shows the distribution of each variable, providing insights into the spread and central tendency of each variable.\n",
        "\n",
        "\n",
        "\n",
        "\n"
      ],
      "metadata": {
        "id": "uPQ8RGwHveiV"
      }
    },
    {
      "cell_type": "markdown",
      "source": [
        "## **5. Solution to Business Objective**"
      ],
      "metadata": {
        "id": "JcMwzZxoAimU"
      }
    },
    {
      "cell_type": "markdown",
      "source": [
        "#### What do you suggest the client to achieve Business Objective ?\n",
        "Explain Briefly."
      ],
      "metadata": {
        "id": "8G2x9gOozGDZ"
      }
    },
    {
      "cell_type": "markdown",
      "source": [
        "To achieve the business objective, which is likely to be maximizing revenue and optimizing operational efficiency, I would recommend the following strategies based on the insights from the dataset:\n",
        "\n",
        "**Diversify Marketing Channels:**\n",
        "\n",
        "The dataset suggests that a significant portion of bookings comes from Online Travel Agents (OTAs) and Offline Travel Agents (OTAs). While these channels are important, diversifying marketing channels can help reach a wider audience and reduce dependency on specific agents or channels.\n",
        "\n",
        "**Improve Customer Retention:**\n",
        "\n",
        "The proportion of repeated guests is higher at the Resort Hotel compared to the City Hotel. This indicates that the Resort Hotel may have a more loyal customer base. Implementing loyalty programs and personalized services can help improve customer retention at both hotels.\n",
        "\n",
        "**Enhance Operational Efficiency**:\n",
        "\n",
        "Analyzing lead times, total stays, and total guests can provide insights into booking patterns and operational efficiency. For example, if a significant portion of bookings has short lead times and long stays, hotels can adjust staffing levels and inventory management to accommodate these trends.\n",
        "\n",
        "**Optimize Pricing Strategies:**\n",
        "Analyzing the relationship between ADR and customer satisfaction ratings can help optimize pricing strategies. If there is a positive relationship between ADR and satisfaction, hotels can consider increasing prices for additional services or amenities.\n",
        "\n",
        "**Improve Service Quality:**\n",
        "Analyzing the relationship between special requests and customer satisfaction ratings can help identify areas for improvement in service quality. Fulfilling more special requests can lead to higher customer satisfaction and potentially more repeat bookings.\n",
        "\n",
        "**Monitor and Adapt:**\n",
        "\n",
        "It's important to continuously monitor booking trends, customer feedback, and market dynamics to adapt strategies accordingly. Flexibility and responsiveness to changes in customer preferences and market conditions are key to achieving long-term business objectives.\n",
        "\n",
        "\n",
        "\n",
        "---\n",
        "\n",
        "\n",
        "In breif, diversifying marketing channels, improving customer retention, enhancing operational efficiency, optimizing pricing strategies, improving service quality, and continuously monitoring and adapting to changes in the market can help the client achieve their business objectives."
      ],
      "metadata": {
        "id": "pASKb0qOza21"
      }
    },
    {
      "cell_type": "markdown",
      "source": [
        "# **Conclusion**"
      ],
      "metadata": {
        "id": "gCX9965dhzqZ"
      }
    },
    {
      "cell_type": "markdown",
      "source": [
        "The analysis of the dataset provides valuable insights into various aspects of the hotel business, including booking trends, customer behavior, and operational efficiency. Here are some key conclusions drawn from the analysis:\n",
        "\n",
        "**Booking Trends:**\n",
        "\n",
        "The analysis shows that the number of bookings fluctuates throughout the year, with peak months being August and September. This indicates seasonal variations in demand, which hotels can leverage to optimize pricing and marketing strategies.\n",
        "\n",
        "**Customer Behavior:**\n",
        "\n",
        "The analysis reveals that the majority of bookings come from Online Travel Agents (OTAs) and Offline Travel Agents (OTAs). This highlights the importance of these channels in driving bookings and suggests that hotels should maintain strong partnerships with these agents.\n",
        "\n",
        "**Operational Efficiency:**\n",
        "\n",
        "The analysis of lead times, total stays, and total guests provides insights into booking patterns and operational efficiency. For example, if a significant portion of bookings has short lead times and long stays, hotels can adjust staffing levels and inventory management to accommodate these trends.\n",
        "\n",
        "**Pricing Strategies:**\n",
        "\n",
        "The analysis of the relationship between ADR and customer satisfaction ratings can help optimize pricing strategies. If there is a positive relationship between ADR and satisfaction, hotels can consider increasing prices for additional services or amenities.\n",
        "\n",
        "**Service Quality:**\n",
        "\n",
        "The analysis of the relationship between special requests and customer satisfaction ratings can help identify areas for improvement in service quality. Fulfilling more special requests can lead to higher customer satisfaction and potentially more repeat bookings.\n",
        "\n",
        "**Marketing and Customer Retention:**\n",
        "\n",
        "The analysis also reveals that the proportion of repeated guests is higher at the Resort Hotel compared to the City Hotel. This indicates that the Resort Hotel may have a more loyal customer base. Implementing loyalty programs and personalized services can help improve customer retention at both hotels.\n",
        "\n",
        "**Recommendations:**\n",
        "\n",
        "Based on the insights from the analysis, recommendations for the client include diversifying marketing channels, improving customer retention, enhancing operational efficiency, optimizing pricing strategies, improving service quality, and continuously monitoring and adapting to changes in the market.\n",
        "\n",
        "\n",
        "\n",
        "---\n",
        "\n",
        "\n",
        "In conclusion, the analysis provides valuable insights that can help the client optimize revenue, improve customer satisfaction, and drive positive business outcomes. By leveraging these insights and implementing the recommendations, the client can achieve their business objectives and maintain a competitive edge in the hotel industry.Write the conclusion here."
      ],
      "metadata": {
        "id": "Fjb1IsQkh3yE"
      }
    },
    {
      "cell_type": "markdown",
      "source": [
        "### ***Hurrah! You have successfully completed your EDA Capstone Project !!!***"
      ],
      "metadata": {
        "id": "gIfDvo9L0UH2"
      }
    }
  ]
}